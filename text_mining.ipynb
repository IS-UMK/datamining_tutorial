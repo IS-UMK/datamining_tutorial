{
 "cells": [
  {
   "cell_type": "markdown",
   "metadata": {},
   "source": [
    "https://en.wikipedia.org/wiki/Singular-value_decomposition#/media/File:Singular-Value-Decomposition.svg\n"
   ]
  },
  {
   "cell_type": "code",
   "execution_count": 19,
   "metadata": {
    "collapsed": true
   },
   "outputs": [],
   "source": [
    "import matplotlib.pyplot as plt\n",
    "\n",
    "docs = [\"Human machine interface for Lab ABC computer applications\",\n",
    "\"A survey of user opinion of computer system response time\",\n",
    "\"The EPS user interface management system\",\n",
    "\"System and human system engineering testing of EPS\",\n",
    "\"Relation of user-perceived response time to error measurement\",\n",
    "\"The generation of random, binary, unordered trees\",\n",
    "\"The intersection graph of paths in trees\",\n",
    "\"Graph minors IV: Widths of trees and well-quasi-ordering\",\n",
    "\"Graph minors: A survey\"]"
   ]
  },
  {
   "cell_type": "code",
   "execution_count": 54,
   "metadata": {},
   "outputs": [
    {
     "data": {
      "image/png": "[encoded data removed]",
      "text/plain": [
       "<Figure size 432x288 with 1 Axes>"
      ]
     },
     "metadata": {},
     "output_type": "display_data"
    }
   ],
   "source": [
    "#preprocessing i wektoryzacja\n",
    "import nltk\n",
    "import numpy as np\n",
    "\n",
    "# docs = [d.lower() for d in docs]\n",
    "# docs = [nltk.word_tokenize(d) for d in docs]\n",
    "\n",
    "fdist = nltk.FreqDist()\n",
    "for doc in docs:\n",
    "    for word in doc:\n",
    "        fdist[word] += 1\n",
    "\n",
    "fdist.plot()\n",
    "plt.show()\n",
    "\n",
    "from nltk.corpus import stopwords\n",
    "stops = set(stopwords.words('english')).union(set([':', ',']))\n",
    "\n",
    "words = set(fdist.keys()).difference(stops)\n",
    "\n",
    "word2id = dict(zip(words, range(len(words))))\n",
    "\n",
    "M = []\n",
    "for doc in docs:\n",
    "    vec = np.zeros(len(words))\n",
    "    for word in doc:\n",
    "        if word not in stops:\n",
    "            vec[word2id[word]] = 1\n",
    "    M.append(vec)\n",
    "            \n",
    "M = np.vstack(M)"
   ]
  },
  {
   "cell_type": "code",
   "execution_count": 162,
   "metadata": {},
   "outputs": [
    {
     "data": {
      "image/png": "[encoded data removed]",
      "text/plain": [
       "<Figure size 432x288 with 1 Axes>"
      ]
     },
     "metadata": {},
     "output_type": "display_data"
    },
    {
     "name": "stdout",
     "output_type": "stream",
     "text": [
      "['-1.43*system', '-1.09*user', '-1.06*computer', '-0.94*time', '-0.94*response']\n",
      "['-0.23*graph', '-0.14*trees', '-0.18*minors', '-0.07*widths', '-0.07*iv']\n"
     ]
    }
   ],
   "source": [
    "u, e, v = np.linalg.svd(M.T, full_matrices=False)\n",
    "\n",
    "e_trunc = np.zeros(9)\n",
    "e_trunc[:2] = e[:2]\n",
    "latent_docs = np.diag(e_trunc).dot(v)[:2]\n",
    "plt.imshow(np.abs(latent_docs), cmap='gray')\n",
    "plt.show()\n",
    "\n",
    "\n",
    "#tematy \n",
    "topics = u.dot(np.diag(e_trunc))[:,:2].T\n",
    "t1 = topics[0]\n",
    "t2 = topics[1]\n",
    "#t3 = topics[2]\n",
    "\n",
    "id2word = {v:k for (k,v) in word2id.iteritems()}\n",
    "\n",
    "print [\"%.2f*\"%t1[i] + id2word[i] for i in np.argsort(np.abs(t1))[::-1][:5]]\n",
    "print [\"%.2f*\"%t1[i] + id2word[i] for i in np.argsort(np.abs(t2))[::-1][:5]]\n",
    "#print [\"%.2f*\"%t1[i] + id2word[i] for i in np.argsort(np.abs(t3))[::-1][:5]]"
   ]
  },
  {
   "cell_type": "code",
   "execution_count": 173,
   "metadata": {},
   "outputs": [
    {
     "name": "stdout",
     "output_type": "stream",
     "text": [
      "['the', 'eps', 'user', 'interface', 'management', 'system']\n",
      "['relation', 'of', 'user-perceived', 'response', 'time', 'to', 'error', 'measurement']\n",
      "['system', 'and', 'human', 'system', 'engineering', 'testing', 'of', 'eps']\n",
      "['a', 'survey', 'of', 'user', 'opinion', 'of', 'computer', 'system', 'response', 'time']\n",
      "['human', 'machine', 'interface', 'for', 'lab', 'abc', 'computer', 'applications']\n",
      "['graph', 'minors', ':', 'a', 'survey']\n",
      "['graph', 'minors', 'iv', ':', 'widths', 'of', 'trees', 'and', 'well-quasi-ordering']\n",
      "['the', 'intersection', 'graph', 'of', 'paths', 'in', 'trees']\n",
      "['the', 'generation', 'of', 'random', ',', 'binary', ',', 'unordered', 'trees']\n"
     ]
    }
   ],
   "source": [
    "#zapytanie \n",
    "from scipy.spatial import distance\n",
    "\n",
    "q_term = 'computer'\n",
    "q_vec = np.zeros(len(words))\n",
    "q_vec[word2id[q_term]] = 1.0\n",
    "\n",
    "\n",
    "q_latent = q_vec.dot(u.dot(np.diag(e_trunc))[:,:2])\n",
    "\n",
    "dists = [distance.cosine(q_latent, d) for d in latent_docs.T]\n",
    "for doc_id in np.argsort(dists):\n",
    "    print docs[doc_id]"
   ]
  }
 ],
 "metadata": {
  "kernelspec": {
   "display_name": "Python 2",
   "language": "python",
   "name": "python2"
  },
  "language_info": {
   "codemirror_mode": {
    "name": "ipython",
    "version": 2
   },
   "file_extension": ".py",
   "mimetype": "text/x-python",
   "name": "python",
   "nbconvert_exporter": "python",
   "pygments_lexer": "ipython2",
   "version": "2.7.12"
  }
 },
 "nbformat": 4,
 "nbformat_minor": 2
}
