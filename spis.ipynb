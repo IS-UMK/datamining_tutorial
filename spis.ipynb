{
 "cells": [
  {
   "cell_type": "markdown",
   "metadata": {},
   "source": [
    "# Wstęp do Data Mining\n",
    "\n",
    "Spis treści \n",
    "1. Przegląd metod analizy danych\n",
    "2. Szybki wstęp do numpy\n",
    "3. Klasyfikaja i ocena klasyfikatorów\n",
    "4. Regresja Liniowa oraz wielomianowa\n",
    "5. Przetwarzanie obrazów\n",
    "\n"
   ]
  },
  {
   "cell_type": "code",
   "execution_count": null,
   "metadata": {
    "collapsed": true
   },
   "outputs": [],
   "source": []
  }
 ],
 "metadata": {
  "kernelspec": {
   "display_name": "Python 2",
   "language": "python",
   "name": "python2"
  },
  "language_info": {
   "codemirror_mode": {
    "name": "ipython",
    "version": 2
   },
   "file_extension": ".py",
   "mimetype": "text/x-python",
   "name": "python",
   "nbconvert_exporter": "python",
   "pygments_lexer": "ipython2",
   "version": "2.7.12"
  }
 },
 "nbformat": 4,
 "nbformat_minor": 2
}
